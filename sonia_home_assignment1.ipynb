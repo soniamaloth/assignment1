{
  "nbformat": 4,
  "nbformat_minor": 0,
  "metadata": {
    "colab": {
      "provenance": []
    },
    "kernelspec": {
      "name": "python3",
      "display_name": "Python 3"
    },
    "language_info": {
      "name": "python"
    }
  },
  "cells": [
    {
      "cell_type": "code",
      "execution_count": null,
      "metadata": {
        "colab": {
          "base_uri": "https://localhost:8080/",
          "height": 1000
        },
        "id": "Y06PLHH5MW8S",
        "outputId": "24b54d8a-8846-47d1-af9c-5bf36e2afc9f"
      },
      "outputs": [
        {
          "output_type": "stream",
          "name": "stdout",
          "text": [
            "\n",
            "--- Section 1: Tensor Manipulations & Reshaping ---\n",
            "Original Tensor:\n",
            " tf.Tensor(\n",
            "[[0.9256898  0.83760154 0.6962979  0.60998106 0.4545523  0.9153092 ]\n",
            " [0.6456189  0.6361064  0.79558086 0.5108619  0.24129856 0.43302667]\n",
            " [0.26296234 0.8229575  0.783857   0.9200847  0.31692398 0.13973999]\n",
            " [0.5395348  0.3331108  0.79373395 0.20428932 0.90292346 0.5351175 ]], shape=(4, 6), dtype=float32)\n",
            "Rank: 2\n",
            "Shape: (4, 6)\n",
            "\n",
            "Reshaped Tensor (2, 3, 4):\n",
            " tf.Tensor(\n",
            "[[[0.9256898  0.83760154 0.6962979  0.60998106]\n",
            "  [0.4545523  0.9153092  0.6456189  0.6361064 ]\n",
            "  [0.79558086 0.5108619  0.24129856 0.43302667]]\n",
            "\n",
            " [[0.26296234 0.8229575  0.783857   0.9200847 ]\n",
            "  [0.31692398 0.13973999 0.5395348  0.3331108 ]\n",
            "  [0.79373395 0.20428932 0.90292346 0.5351175 ]]], shape=(2, 3, 4), dtype=float32)\n",
            "Transposed Tensor (3, 2, 4):\n",
            " tf.Tensor(\n",
            "[[[0.9256898  0.83760154 0.6962979  0.60998106]\n",
            "  [0.26296234 0.8229575  0.783857   0.9200847 ]]\n",
            "\n",
            " [[0.4545523  0.9153092  0.6456189  0.6361064 ]\n",
            "  [0.31692398 0.13973999 0.5395348  0.3331108 ]]\n",
            "\n",
            " [[0.79558086 0.5108619  0.24129856 0.43302667]\n",
            "  [0.79373395 0.20428932 0.90292346 0.5351175 ]]], shape=(3, 2, 4), dtype=float32)\n",
            "\n",
            "Broadcast Tensor:\n",
            " tf.Tensor([[1. 2. 3. 4.]], shape=(1, 4), dtype=float32)\n",
            "Broadcasted and Added Tensor:\n",
            " tf.Tensor(\n",
            "[[[1.9256898 2.8376017 3.696298  4.609981 ]\n",
            "  [1.4545523 2.9153092 3.645619  4.6361065]\n",
            "  [1.7955809 2.5108619 3.2412987 4.433027 ]]\n",
            "\n",
            " [[1.2629623 2.8229575 3.7838569 4.920085 ]\n",
            "  [1.316924  2.13974   3.5395348 4.333111 ]\n",
            "  [1.793734  2.2042894 3.9029236 4.5351176]]], shape=(2, 3, 4), dtype=float32)\n",
            "\n",
            "Broadcasting in TensorFlow allows operations on tensors of different shapes, automatically expanding the smaller tensor to match dimensions.\n",
            "\n",
            "--- Section 2: Loss Functions & Hyperparameter Tuning ---\n",
            "\n",
            "Loss Values:\n",
            "MSE1: 0.034999996423721313, CCE1: 0.27977654337882996\n",
            "MSE2: 0.12666666507720947, CCE2: 0.6904911398887634\n"
          ]
        },
        {
          "output_type": "display_data",
          "data": {
            "text/plain": [
              "<Figure size 800x400 with 1 Axes>"
            ],
            "image/png": "[encoded data removed]"
          },
          "metadata": {}
        },
        {
          "output_type": "stream",
          "name": "stdout",
          "text": [
            "\n",
            "--- Section 3: Train a Neural Network & Log to TensorBoard ---\n",
            "Downloading data from https://storage.googleapis.com/tensorflow/tf-keras-datasets/mnist.npz\n",
            "\u001b[1m11490434/11490434\u001b[0m \u001b[32m━━━━━━━━━━━━━━━━━━━━\u001b[0m\u001b[37m\u001b[0m \u001b[1m0s\u001b[0m 0us/step\n"
          ]
        },
        {
          "output_type": "stream",
          "name": "stderr",
          "text": [
            "/usr/local/lib/python3.11/dist-packages/keras/src/layers/reshaping/flatten.py:37: UserWarning: Do not pass an `input_shape`/`input_dim` argument to a layer. When using Sequential models, prefer using an `Input(shape)` object as the first layer in the model instead.\n",
            "  super().__init__(**kwargs)\n"
          ]
        },
        {
          "output_type": "stream",
          "name": "stdout",
          "text": [
            "Epoch 1/5\n",
            "\u001b[1m1875/1875\u001b[0m \u001b[32m━━━━━━━━━━━━━━━━━━━━\u001b[0m\u001b[37m\u001b[0m \u001b[1m15s\u001b[0m 7ms/step - accuracy: 0.8805 - loss: 0.4231 - val_accuracy: 0.9568 - val_loss: 0.1445\n",
            "Epoch 2/5\n",
            "\u001b[1m1875/1875\u001b[0m \u001b[32m━━━━━━━━━━━━━━━━━━━━\u001b[0m\u001b[37m\u001b[0m \u001b[1m14s\u001b[0m 7ms/step - accuracy: 0.9637 - loss: 0.1218 - val_accuracy: 0.9639 - val_loss: 0.1171\n",
            "Epoch 3/5\n",
            "\u001b[1m1875/1875\u001b[0m \u001b[32m━━━━━━━━━━━━━━━━━━━━\u001b[0m\u001b[37m\u001b[0m \u001b[1m20s\u001b[0m 7ms/step - accuracy: 0.9779 - loss: 0.0756 - val_accuracy: 0.9715 - val_loss: 0.0889\n",
            "Epoch 4/5\n",
            "\u001b[1m 251/1875\u001b[0m \u001b[32m━━\u001b[0m\u001b[37m━━━━━━━━━━━━━━━━━━\u001b[0m \u001b[1m10s\u001b[0m 7ms/step - accuracy: 0.9831 - loss: 0.0530"
          ]
        }
      ],
      "source": [
        " #Home Assignment 1: CS5720 Neural Networks and Deep Learning\n",
        "\n",
        "import tensorflow as tf\n",
        "import numpy as np\n",
        "import matplotlib.pyplot as plt\n",
        "from tensorflow.keras.losses import MeanSquaredError, CategoricalCrossentropy\n",
        "from tensorflow.keras.datasets import mnist\n",
        "from tensorflow.keras.models import Sequential\n",
        "from tensorflow.keras.layers import Dense, Flatten\n",
        "from tensorflow.keras.utils import to_categorical\n",
        "from datetime import datetime\n",
        "import os\n",
        "\n",
        "# Section 1: Tensor Manipulations & Reshaping\n",
        "print(\"\\n--- Section 1: Tensor Manipulations & Reshaping ---\")\n",
        "tensor = tf.random.uniform((4, 6))\n",
        "print(\"Original Tensor:\\n\", tensor)\n",
        "print(\"Rank:\", tf.rank(tensor).numpy())\n",
        "print(\"Shape:\", tensor.shape)\n",
        "\n",
        "reshaped = tf.reshape(tensor, (2, 3, 4))\n",
        "print(\"\\nReshaped Tensor (2, 3, 4):\\n\", reshaped)\n",
        "transposed = tf.transpose(reshaped, perm=[1, 0, 2])\n",
        "print(\"Transposed Tensor (3, 2, 4):\\n\", transposed)\n",
        "\n",
        "broadcast_tensor = tf.constant([[1., 2., 3., 4.]])\n",
        "print(\"\\nBroadcast Tensor:\\n\", broadcast_tensor)\n",
        "\n",
        "added_tensor = reshaped + broadcast_tensor\n",
        "print(\"Broadcasted and Added Tensor:\\n\", added_tensor)\n",
        "\n",
        "print(\"\\nBroadcasting in TensorFlow allows operations on tensors of different shapes, automatically expanding the smaller tensor to match dimensions.\")\n",
        "\n",
        "# Section 2: Loss Functions & Hyperparameter Tuning\n",
        "print(\"\\n--- Section 2: Loss Functions & Hyperparameter Tuning ---\")\n",
        "y_true = tf.constant([[1, 0, 0], [0, 1, 0], [0, 0, 1]], dtype=tf.float32)\n",
        "y_pred1 = tf.constant([[0.9, 0.05, 0.05], [0.1, 0.8, 0.1], [0.2, 0.2, 0.6]], dtype=tf.float32)\n",
        "y_pred2 = tf.constant([[0.7, 0.2, 0.1], [0.3, 0.6, 0.1], [0.4, 0.3, 0.3]], dtype=tf.float32)\n",
        "\n",
        "mse = MeanSquaredError()\n",
        "cce = CategoricalCrossentropy()\n",
        "\n",
        "mse1 = mse(y_true, y_pred1).numpy()\n",
        "cce1 = cce(y_true, y_pred1).numpy()\n",
        "mse2 = mse(y_true, y_pred2).numpy()\n",
        "cce2 = cce(y_true, y_pred2).numpy()\n",
        "\n",
        "print(\"\\nLoss Values:\")\n",
        "print(f\"MSE1: {mse1}, CCE1: {cce1}\")\n",
        "print(f\"MSE2: {mse2}, CCE2: {cce2}\")\n",
        "\n",
        "labels = ['MSE1', 'CCE1', 'MSE2', 'CCE2']\n",
        "values = [mse1, cce1, mse2, cce2]\n",
        "\n",
        "plt.figure(figsize=(8, 4))\n",
        "plt.bar(labels, values, color=['blue', 'green', 'orange', 'red'])\n",
        "plt.title('Comparison of Loss Functions')\n",
        "plt.ylabel('Loss Value')\n",
        "plt.savefig('loss_comparison.png')\n",
        "plt.show()\n",
        "\n",
        "# Section 3: Train a Neural Network and Log to TensorBoard\n",
        "print(\"\\n--- Section 3: Train a Neural Network & Log to TensorBoard ---\")\n",
        "(x_train, y_train), (x_test, y_test) = mnist.load_data()\n",
        "x_train, x_test = x_train / 255.0, x_test / 255.0\n",
        "y_train_cat = to_categorical(y_train, 10)\n",
        "y_test_cat = to_categorical(y_test, 10)\n",
        "\n",
        "model = Sequential([\n",
        "    Flatten(input_shape=(28, 28)),\n",
        "    Dense(128, activation='relu'),\n",
        "    Dense(10, activation='softmax')\n",
        "])\n",
        "\n",
        "model.compile(optimizer='adam', loss='categorical_crossentropy', metrics=['accuracy'])\n",
        "\n",
        "log_dir = os.path.join(\"logs/fit\", datetime.now().strftime(\"%Y%m%d-%H%M%S\"))\n",
        "tensorboard_callback = tf.keras.callbacks.TensorBoard(log_dir=log_dir, histogram_freq=1)\n",
        "\n",
        "model.fit(x_train, y_train_cat, epochs=5, validation_data=(x_test, y_test_cat), callbacks=[tensorboard_callback])\n",
        "\n",
        "print(\"\\nTo visualize in TensorBoard, run:\")\n",
        "print(f\"tensorboard --logdir={log_dir}\")\n"
      ]
    }
  ]
}